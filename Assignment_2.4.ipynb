{
 "cells": [
  {
   "cell_type": "markdown",
   "metadata": {},
   "source": [
    "Write a Python Program to print the given string in the format specified in the sample\n",
    " output.\n",
    "\n",
    "WE, THE PEOPLE OF INDIA, having solemnly resolved to constitute India into a\n",
    "SOVEREIGN, SOCIALIST, SECULAR, DEMOCRATIC REPUBLIC and to secure to all\n",
    "its citizens\n",
    "\n",
    "Sample Output:\n",
    "\n",
    "WE, THE PEOPLE OF INDIA,\n",
    "    having solemnly resolved to constitute India into a SOVEREIGN, !\n",
    "        SOCIALIST, SECULAR, DEMOCRATIC REPUBLIC\n",
    "         and to secure to all its citizens:"
   ]
  },
  {
   "cell_type": "markdown",
   "metadata": {},
   "source": [
    "## Solution Approach:\n",
    "\n",
    "1. store string in a variable\n",
    "2. cycle through variable by spaces\n",
    "3. when hit a trigger word do something\n"
   ]
  },
  {
   "cell_type": "code",
   "execution_count": 1,
   "metadata": {},
   "outputs": [],
   "source": [
    "import copy as cp\n",
    "\n",
    "tab = \"\\t\"\n",
    "space = \" \""
   ]
  },
  {
   "cell_type": "code",
   "execution_count": 2,
   "metadata": {},
   "outputs": [],
   "source": [
    "class FormatPhrase(object):\n",
    "    \"\"\"Format and print a string.\n",
    "    \n",
    "    :param phrase: A string, the starting string that will be formatted for printing.\n",
    "    :param triggers_list: A list, the words in declaration that signal applying formatting.\n",
    "    :param split_triggers_list: A list, the words that signal to separate the phrase into smaller pieces.\n",
    "    :param number_of_triggers: An int, a count of the number of supplied triggers.\n",
    "    :param formats_dictionary: A dictionary, containing the formats to apply for each trigger.\n",
    "    :param working_phrase_list: A list, stores words or phrases used to create the final phrase list.\n",
    "    :param print_ready_phrase_list: A list, contains formated phrase segments that can now be printed.\n",
    "    \n",
    "    \"\"\"\n",
    "    \n",
    "    def __init__(self, phrase):\n",
    "        self.phrase = phrase\n",
    "        self.triggers_list = []\n",
    "        self.split_triggers_list = []\n",
    "        self.number_of_triggers = 0\n",
    "        self.formats_dictionary = {}\n",
    "        self.working_phrase_list = []\n",
    "        self.print_ready_phrase_list = []\n",
    "\n",
    "    def test_print(self):\n",
    "        \"\"\"Print all initialized values for variable during development.\"\"\"\n",
    "        print(vars(self))\n",
    "\n",
    "    def add_triggers(self, trigger_list):\n",
    "        \"\"\"Provides list of triggers that signal formatting.\"\"\"\n",
    "        self.triggers_list = cp.deepcopy(trigger_list)\n",
    "        number_of_triggers_original = cp.deepcopy(self.number_of_triggers)\n",
    "        self.number_of_triggers = len(self.triggers_list)\n",
    "        print_list = [ 'There were ' + str(number_of_triggers_original) + ' triggers.',\\\n",
    "                      'Now there are '+ str(self.number_of_triggers) + ' triggers.',\\\n",
    "                      str(self.triggers_list) + ' is the list of triggers.' ]\n",
    "        print(*print_list, sep=\"\\n\")\n",
    "        \n",
    "    def remove_starting_spaces(self):\n",
    "        \"\"\"Creates a new list without staring spaces\"\"\"\n",
    "        tmp_list = cp.deepcopy(self.working_phrase_list)\n",
    "        changed_phrase = ''\n",
    "        for index, value in enumerate(tmp_list):\n",
    "            if value[0] == space:\n",
    "                changed_phrase = value[1:]\n",
    "                self.working_phrase_list[index] = changed_phrase\n",
    "\n",
    "    def create_working_list(self):\n",
    "        \"\"\"Splits phrase into smaller phrases based on split triggers.\"\"\"\n",
    "        split_index_list = []\n",
    "        start = 0\n",
    "        end = 0\n",
    "        # creates the list of words that signal creating a new line\n",
    "        self.split_triggers_list = ['INDIA', 'SOVEREIGN', 'REPUBLIC']\n",
    "        for st in self.split_triggers_list:\n",
    "            end = self.phrase.find(st) + len(st) + 1\n",
    "            self.working_phrase_list.append(dec.phrase[start:end])\n",
    "            start = end\n",
    "        self.working_phrase_list.append(dec.phrase[start:])\n",
    "        self.remove_starting_spaces()\n",
    "        print(self.working_phrase_list)\n",
    "\n",
    "    def add_formats(self):\n",
    "        \"\"\"Provides dictionary of desired formats with trigger list items as keys.\"\"\"\n",
    "        for index, value in enumerate(self.working_phrase_list):\n",
    "            key_front = 'f' + str((index + 1))\n",
    "            key_back = 'b' + str((index + 1))\n",
    "            front_format = self.formats_dictionary[key_front]\n",
    "            back_format = self.formats_dictionary[key_back]\n",
    "            self.print_ready_phrase_list.append(front_format + value + back_format)"
   ]
  },
  {
   "cell_type": "code",
   "execution_count": 3,
   "metadata": {},
   "outputs": [],
   "source": [
    "declaration = ( \"WE, THE PEOPLE OF INDIA, having solemnly resolved to constitute India into a SOVEREIGN, \"\n",
    "                   \"SOCIALIST, SECULAR, DEMOCRATIC REPUBLIC and to secure to all its citizens\")\n",
    "\n",
    "dec = FormatPhrase(declaration)"
   ]
  },
  {
   "cell_type": "code",
   "execution_count": 4,
   "metadata": {},
   "outputs": [
    {
     "name": "stdout",
     "output_type": "stream",
     "text": [
      "{'phrase': 'WE, THE PEOPLE OF INDIA, having solemnly resolved to constitute India into a SOVEREIGN, SOCIALIST, SECULAR, DEMOCRATIC REPUBLIC and to secure to all its citizens', 'triggers_list': [], 'split_triggers_list': [], 'number_of_triggers': 0, 'formats_dictionary': {}, 'working_phrase_list': [], 'print_ready_phrase_list': []}\n"
     ]
    }
   ],
   "source": [
    "dec.test_print()"
   ]
  },
  {
   "cell_type": "code",
   "execution_count": 5,
   "metadata": {},
   "outputs": [
    {
     "name": "stdout",
     "output_type": "stream",
     "text": [
      "There were 0 triggers.\n",
      "Now there are 6 triggers.\n",
      "['INDIA', 'having', 'SOVEREIGN', 'SOCIALIST,', 'REPUBLIC', 'citizens'] is the list of triggers.\n"
     ]
    }
   ],
   "source": [
    "trigger_wordlist_with_puntuation = ['INDIA', 'having', 'SOVEREIGN', 'SOCIALIST,', 'REPUBLIC', 'citizens']\n",
    "\n",
    "dec.add_triggers(trigger_wordlist_with_puntuation)"
   ]
  },
  {
   "cell_type": "code",
   "execution_count": 6,
   "metadata": {},
   "outputs": [
    {
     "name": "stdout",
     "output_type": "stream",
     "text": [
      "['WE, THE PEOPLE OF INDIA,', 'having solemnly resolved to constitute India into a SOVEREIGN,', 'SOCIALIST, SECULAR, DEMOCRATIC REPUBLIC ', 'and to secure to all its citizens']\n"
     ]
    }
   ],
   "source": [
    "dec.create_working_list()"
   ]
  },
  {
   "cell_type": "code",
   "execution_count": 7,
   "metadata": {},
   "outputs": [],
   "source": [
    "# we are either adding something to the front or back\n",
    "# steps split big phrase into small ones\n",
    "# add formatting based on if it should go in front or behind something\n",
    "formatting_to_apply = [ '', '', tab, ' !', tab * 2, '', (tab * 2)+(space*2), ':']\n",
    "formatting_keys = ['f1', 'b1', 'f2', 'b2', 'f3', 'b3', 'f4', 'b4']\n",
    "\n",
    "for index, value in enumerate(formatting_to_apply):\n",
    "    key = formatting_keys[index]\n",
    "    dec.formats_dictionary[key] = value"
   ]
  },
  {
   "cell_type": "code",
   "execution_count": 8,
   "metadata": {},
   "outputs": [
    {
     "data": {
      "text/plain": [
       "{'f1': '',\n",
       " 'b1': '',\n",
       " 'f2': '\\t',\n",
       " 'b2': ' !',\n",
       " 'f3': '\\t\\t',\n",
       " 'b3': '',\n",
       " 'f4': '\\t\\t  ',\n",
       " 'b4': ':'}"
      ]
     },
     "execution_count": 8,
     "metadata": {},
     "output_type": "execute_result"
    }
   ],
   "source": [
    "dec.formats_dictionary"
   ]
  },
  {
   "cell_type": "code",
   "execution_count": 9,
   "metadata": {},
   "outputs": [],
   "source": [
    "dec.add_formats()"
   ]
  },
  {
   "cell_type": "code",
   "execution_count": 10,
   "metadata": {},
   "outputs": [
    {
     "name": "stdout",
     "output_type": "stream",
     "text": [
      "WE, THE PEOPLE OF INDIA,\n",
      "\thaving solemnly resolved to constitute India into a SOVEREIGN, !\n",
      "\t\tSOCIALIST, SECULAR, DEMOCRATIC REPUBLIC \n",
      "\t\t  and to secure to all its citizens:\n"
     ]
    }
   ],
   "source": [
    "for line in dec.print_ready_phrase_list:\n",
    "    print(line)"
   ]
  }
 ],
 "metadata": {
  "kernelspec": {
   "display_name": "Python 3",
   "language": "python",
   "name": "python3"
  },
  "language_info": {
   "codemirror_mode": {
    "name": "ipython",
    "version": 3
   },
   "file_extension": ".py",
   "mimetype": "text/x-python",
   "name": "python",
   "nbconvert_exporter": "python",
   "pygments_lexer": "ipython3",
   "version": "3.6.6"
  }
 },
 "nbformat": 4,
 "nbformat_minor": 2
}
